{
 "cells": [
  {
   "cell_type": "code",
   "execution_count": null,
   "id": "8e027329-f73d-470e-a6f7-168aeb304776",
   "metadata": {},
   "outputs": [],
   "source": []
  }
 ],
 "metadata": {
  "kernelspec": {
   "display_name": "",
   "name": ""
  },
  "language_info": {
   "name": ""
  }
 },
 "nbformat": 4,
 "nbformat_minor": 5
}
